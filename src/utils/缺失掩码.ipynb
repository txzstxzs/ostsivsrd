{
 "cells": [
  {
   "cell_type": "code",
   "execution_count": 1,
   "id": "36fd2cdb",
   "metadata": {},
   "outputs": [],
   "source": [
    "import torch\n",
    "import random"
   ]
  },
  {
   "cell_type": "code",
   "execution_count": 2,
   "id": "85ef0fc1",
   "metadata": {},
   "outputs": [],
   "source": [
    "def get_mask_rm(sample, k):   # 随机缺失  输入为一个样本方块 [100, 14]  k为20 是每一列数据要缺失的行数 所以是一列一列缺失的 缺失率为0.2  \n",
    "    \"\"\"Get mask of random points (missing at random) across channels based on k,\n",
    "    where k == number of data points. Mask of sample's shape where 0's to be imputed, and 1's to preserved\n",
    "    as per ts imputers\"\"\"\n",
    "\n",
    "    mask = torch.ones(sample.shape)                    # [100, 14]  \n",
    "    length_index = torch.tensor(range(mask.shape[0]))  # 0-100 序列长度 时间步长度  lenght of series indexes\n",
    "    \n",
    "    for channel in range(mask.shape[1]):               # 对于每一列  一列一列缺失\n",
    "        perm = torch.randperm(len(length_index))       # 0-100打乱\n",
    "        idx = perm[0:k]                                # 取前20个\n",
    "        mask[:, channel][idx] = 0                      # 对于每一列 随机20行为0  原有100行 所以缺失率为0.2\n",
    "\n",
    "    return mask\n",
    "\n",
    "\n",
    "def get_mask_mnr(sample, k):  # 每一列都是连续缺失  但是每一列具缺失的起点终点不一样\n",
    "    \"\"\"Get mask of random segments (non-missing at random) across channels based on k,\n",
    "    where k == number of segments. Mask of sample's shape where 0's to be imputed, and 1's to preserved\n",
    "    as per ts imputers\"\"\"\n",
    "\n",
    "    mask = torch.ones(sample.shape)\n",
    "    length_index = torch.tensor(range(mask.shape[0]))\n",
    "    list_of_segments_index = torch.split(length_index, k)\n",
    "    for channel in range(mask.shape[1]):\n",
    "        s_nan = random.choice(list_of_segments_index)\n",
    "        mask[:, channel][s_nan[0]:s_nan[-1] + 1] = 0\n",
    "\n",
    "    return mask\n",
    "\n",
    "\n",
    "def get_mask_bm(sample, k):    # 每一列都是连续缺失  起点终点都一样\n",
    "    \"\"\"Get mask of same segments (black-out missing) across channels based on k,\n",
    "    where k == number of segments. Mask of sample's shape where 0's to be imputed, and 1's to be preserved\n",
    "    as per ts imputers\"\"\"\n",
    "\n",
    "    mask = torch.ones(sample.shape)\n",
    "    length_index = torch.tensor(range(mask.shape[0]))\n",
    "    list_of_segments_index = torch.split(length_index, k)\n",
    "    s_nan = random.choice(list_of_segments_index)\n",
    "    for channel in range(mask.shape[1]):\n",
    "        mask[:, channel][s_nan[0]:s_nan[-1] + 1] = 0\n",
    "\n",
    "    return mask\n",
    "\n"
   ]
  },
  {
   "cell_type": "code",
   "execution_count": 3,
   "id": "c058f73f",
   "metadata": {},
   "outputs": [
    {
     "name": "stdout",
     "output_type": "stream",
     "text": [
      "tensor([[0.9036, 0.4251, 0.3025, 0.4053, 0.6101, 0.0481, 0.1890, 0.2565],\n",
      "        [0.4568, 0.3428, 0.2441, 0.5541, 0.7362, 0.9739, 0.1575, 0.7611],\n",
      "        [0.0454, 0.9487, 0.7639, 0.2249, 0.2208, 0.1309, 0.1611, 0.8617],\n",
      "        [0.2674, 0.2713, 0.3631, 0.3783, 0.9967, 0.9900, 0.6910, 0.8923],\n",
      "        [0.5553, 0.4392, 0.6729, 0.1837, 0.5209, 0.6857, 0.5202, 0.5959],\n",
      "        [0.4525, 0.9050, 0.3163, 0.6791, 0.0084, 0.4455, 0.1978, 0.8080],\n",
      "        [0.2485, 0.4376, 0.0413, 0.9152, 0.5351, 0.2983, 0.5049, 0.2064],\n",
      "        [0.4458, 0.4747, 0.6543, 0.4866, 0.9078, 0.0404, 0.5548, 0.8442]])\n",
      "tensor([[1., 1., 0., 0., 0., 0., 0., 0.],\n",
      "        [0., 0., 0., 1., 1., 1., 1., 1.],\n",
      "        [1., 1., 1., 0., 1., 1., 1., 0.],\n",
      "        [0., 1., 0., 1., 1., 0., 1., 1.],\n",
      "        [1., 1., 1., 1., 1., 1., 1., 0.],\n",
      "        [1., 0., 1., 1., 0., 1., 0., 1.],\n",
      "        [0., 1., 1., 1., 1., 0., 1., 1.],\n",
      "        [1., 0., 1., 0., 0., 1., 0., 1.]]) torch.Size([8, 8])\n"
     ]
    }
   ],
   "source": [
    "a = torch.rand((8,8))\n",
    "print(a)\n",
    "\n",
    "mask = get_mask_rm(a, 3)\n",
    "print(mask,mask.shape)"
   ]
  },
  {
   "cell_type": "code",
   "execution_count": 4,
   "id": "c558a862",
   "metadata": {},
   "outputs": [
    {
     "name": "stdout",
     "output_type": "stream",
     "text": [
      "tensor([[1., 0., 1., 0., 1., 0., 1., 1.],\n",
      "        [1., 0., 1., 0., 1., 0., 1., 1.],\n",
      "        [1., 0., 1., 0., 1., 0., 1., 1.],\n",
      "        [1., 1., 0., 1., 0., 1., 1., 1.],\n",
      "        [1., 1., 0., 1., 0., 1., 1., 1.],\n",
      "        [1., 1., 0., 1., 0., 1., 1., 1.],\n",
      "        [0., 1., 1., 1., 1., 1., 0., 0.],\n",
      "        [0., 1., 1., 1., 1., 1., 0., 0.]]) torch.Size([8, 8])\n"
     ]
    }
   ],
   "source": [
    "mask = get_mask_mnr(a, 3)\n",
    "print(mask,mask.shape)"
   ]
  },
  {
   "cell_type": "code",
   "execution_count": 6,
   "id": "91688875",
   "metadata": {},
   "outputs": [
    {
     "name": "stdout",
     "output_type": "stream",
     "text": [
      "tensor([[1., 1., 1., 1., 1., 1., 1., 1.],\n",
      "        [1., 1., 1., 1., 1., 1., 1., 1.],\n",
      "        [1., 1., 1., 1., 1., 1., 1., 1.],\n",
      "        [0., 0., 0., 0., 0., 0., 0., 0.],\n",
      "        [0., 0., 0., 0., 0., 0., 0., 0.],\n",
      "        [0., 0., 0., 0., 0., 0., 0., 0.],\n",
      "        [1., 1., 1., 1., 1., 1., 1., 1.],\n",
      "        [1., 1., 1., 1., 1., 1., 1., 1.]]) torch.Size([8, 8])\n"
     ]
    }
   ],
   "source": [
    "mask = get_mask_bm(a, 3)\n",
    "print(mask,mask.shape)"
   ]
  },
  {
   "cell_type": "code",
   "execution_count": 7,
   "id": "b56c8dc6",
   "metadata": {},
   "outputs": [
    {
     "name": "stdout",
     "output_type": "stream",
     "text": [
      "tensor([[1., 1., 0., 1., 0., 1., 0., 1.],\n",
      "        [1., 1., 0., 0., 0., 1., 0., 1.],\n",
      "        [1., 0., 1., 1., 0., 1., 0., 1.],\n",
      "        [1., 0., 1., 0., 1., 1., 0., 0.],\n",
      "        [0., 0., 1., 1., 1., 0., 1., 0.],\n",
      "        [0., 0., 0., 1., 1., 1., 1., 0.],\n",
      "        [0., 1., 0., 0., 1., 0., 1., 0.],\n",
      "        [0., 0., 0., 1., 1., 0., 1., 0.]]) torch.Size([8, 8])\n"
     ]
    }
   ],
   "source": [
    "def get_mask_bm(sample, mr): \n",
    "    mask = torch.ones(sample.shape).view(1,-1) \n",
    "    index = torch.tensor(range(mask.shape[1]))  \n",
    "    perm = torch.randperm(len(index)) \n",
    "    index = perm[ 0: round( mr*len(index) ) ]\n",
    "    mask[0][index]=0\n",
    "    mask = mask.view(sample.shape)\n",
    "    return mask\n",
    "\n",
    "mr = 0.5\n",
    "sample = torch.rand((8,8))\n",
    "mask = get_mask_bm(sample, mr)\n",
    "print(mask,mask.shape)"
   ]
  },
  {
   "cell_type": "code",
   "execution_count": 39,
   "id": "f64c12db",
   "metadata": {},
   "outputs": [
    {
     "name": "stdout",
     "output_type": "stream",
     "text": [
      "torch.Size([1, 64])\n",
      "tensor([ 0,  1,  2,  3,  4,  5,  6,  7,  8,  9, 10, 11, 12, 13, 14, 15, 16, 17,\n",
      "        18, 19, 20, 21, 22, 23, 24, 25, 26, 27, 28, 29, 30, 31, 32, 33, 34, 35,\n",
      "        36, 37, 38, 39, 40, 41, 42, 43, 44, 45, 46, 47, 48, 49, 50, 51, 52, 53,\n",
      "        54, 55, 56, 57, 58, 59, 60, 61, 62, 63])\n",
      "tensor([23, 17, 60,  4, 62, 14, 35, 32, 25,  3, 21, 24, 53, 48, 49, 37, 11, 36,\n",
      "        18,  7, 52,  2, 13,  6, 30, 51, 47, 19, 10, 54, 22, 12, 42, 56, 20, 29,\n",
      "         1, 58, 40, 38, 61, 59,  9, 45,  8, 28, 41, 34, 31, 16, 57, 27, 46, 43,\n",
      "         5, 55, 39, 44, 63, 33,  0, 26, 15, 50])\n",
      "tensor([23, 17, 60,  4, 62, 14, 35, 32, 25,  3, 21, 24, 53])\n",
      "tensor([[1., 1., 1., 5., 5., 1., 1., 1., 1., 1., 1., 1., 1., 1., 5., 1., 1., 5.,\n",
      "         1., 1., 1., 5., 1., 5., 5., 5., 1., 1., 1., 1., 1., 1., 5., 1., 1., 5.,\n",
      "         1., 1., 1., 1., 1., 1., 1., 1., 1., 1., 1., 1., 1., 1., 1., 1., 1., 5.,\n",
      "         1., 1., 1., 1., 1., 1., 5., 1., 5., 1.]])\n"
     ]
    },
    {
     "data": {
      "text/plain": [
       "tensor([[1., 1., 1., 5., 5., 1., 1., 1.],\n",
       "        [1., 1., 1., 1., 1., 1., 5., 1.],\n",
       "        [1., 5., 1., 1., 1., 5., 1., 5.],\n",
       "        [5., 5., 1., 1., 1., 1., 1., 1.],\n",
       "        [5., 1., 1., 5., 1., 1., 1., 1.],\n",
       "        [1., 1., 1., 1., 1., 1., 1., 1.],\n",
       "        [1., 1., 1., 1., 1., 5., 1., 1.],\n",
       "        [1., 1., 1., 1., 5., 1., 5., 1.]])"
      ]
     },
     "execution_count": 39,
     "metadata": {},
     "output_type": "execute_result"
    }
   ],
   "source": [
    "mr = 0.2\n",
    "sample = torch.rand((8,8))\n",
    "\n",
    "mask = torch.ones(sample.shape).view(1,-1)   # [100, 14]  \n",
    "print(mask.shape )\n",
    "\n",
    "index = torch.tensor(range(mask.shape[1]))  \n",
    "print(index)\n",
    "\n",
    "perm = torch.randperm(len(index)) \n",
    "print(perm)\n",
    "\n",
    "index = perm[0:round( mr*len(index) ) ]\n",
    "print(index)\n",
    "\n",
    "mask[0][index]=5\n",
    "print(mask)\n",
    "\n",
    "mask = mask.view(sample.shape)\n",
    "mask"
   ]
  },
  {
   "cell_type": "code",
   "execution_count": null,
   "id": "d34de01c",
   "metadata": {},
   "outputs": [],
   "source": []
  },
  {
   "cell_type": "code",
   "execution_count": null,
   "id": "49e955b0",
   "metadata": {},
   "outputs": [],
   "source": []
  },
  {
   "cell_type": "code",
   "execution_count": null,
   "id": "78a7f32c",
   "metadata": {},
   "outputs": [],
   "source": []
  },
  {
   "cell_type": "code",
   "execution_count": null,
   "id": "a397ff3b",
   "metadata": {},
   "outputs": [],
   "source": []
  }
 ],
 "metadata": {
  "kernelspec": {
   "display_name": "Python 3 (ipykernel)",
   "language": "python",
   "name": "python3"
  },
  "language_info": {
   "codemirror_mode": {
    "name": "ipython",
    "version": 3
   },
   "file_extension": ".py",
   "mimetype": "text/x-python",
   "name": "python",
   "nbconvert_exporter": "python",
   "pygments_lexer": "ipython3",
   "version": "3.9.13"
  }
 },
 "nbformat": 4,
 "nbformat_minor": 5
}
